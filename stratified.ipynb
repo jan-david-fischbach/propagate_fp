{
 "cells": [
  {
   "cell_type": "markdown",
   "metadata": {},
   "source": [
    "# A simple simulator for Stratified media under normal incidence"
   ]
  },
  {
   "cell_type": "markdown",
   "metadata": {},
   "source": [
    "## Imports"
   ]
  },
  {
   "cell_type": "code",
   "execution_count": 112,
   "metadata": {},
   "outputs": [],
   "source": [
    "import jax\n",
    "import jax.numpy as jnp\n",
    "import numpy as onp\n",
    "import matplotlib.pyplot as plt"
   ]
  },
  {
   "cell_type": "code",
   "execution_count": 113,
   "metadata": {},
   "outputs": [],
   "source": [
    "import sax\n",
    "import meow\n",
    "import meow.eme.propagate\n",
    "from sax.backends import circuit_backends\n",
    "from sax.saxtypes import scoo\n",
    "sax_backend = meow.eme.sax._validate_sax_backend(\"klu\")"
   ]
  },
  {
   "cell_type": "markdown",
   "metadata": {},
   "source": [
    "## Layer Stack"
   ]
  },
  {
   "cell_type": "code",
   "execution_count": 159,
   "metadata": {},
   "outputs": [],
   "source": [
    "ns = [2+0.04j]\n",
    "ds = [1]\n",
    "wl = 0.523\n",
    "xi = jnp.cumsum(jnp.array(ds))"
   ]
  },
  {
   "cell_type": "markdown",
   "metadata": {},
   "source": [
    "## Fresnel and Propagation"
   ]
  },
  {
   "cell_type": "code",
   "execution_count": 160,
   "metadata": {},
   "outputs": [],
   "source": [
    "def fresnel_mirror_ij(ni=1.0, nj=1.0):\n",
    "    \"\"\"Model a (fresnel) interface between twoo refractive indices\n",
    "\n",
    "    Args:\n",
    "        ni: refractive index of the initial medium\n",
    "        nf: refractive index of the final\n",
    "    \"\"\"\n",
    "    r_fresnel_ij = (ni - nj) / (ni + nj)  # i->j reflection\n",
    "    t_fresnel_ij = 2 * ni / (ni + nj)  # i->j transmission\n",
    "    r_fresnel_ji = -r_fresnel_ij  # j -> i reflection\n",
    "    t_fresnel_ji = (1 - r_fresnel_ij**2) / t_fresnel_ij  # j -> i transmission\n",
    "    sdict = {\n",
    "        (\"left\", \"left\"): r_fresnel_ij,\n",
    "        (\"left\", \"right\"): t_fresnel_ij,\n",
    "        (\"right\", \"left\"): t_fresnel_ji,\n",
    "        (\"right\", \"right\"): r_fresnel_ji,\n",
    "    }\n",
    "    return sdict\n",
    "\n",
    "\n",
    "def propagation_i(ni=1.0, di=0.5, wl=wl):\n",
    "    \"\"\"Model the phase shift acquired as a wave propagates through medium A\n",
    "\n",
    "    Args:\n",
    "        ni: refractive index of medium (at wavelength wl)\n",
    "        di: [μm] thickness of layer\n",
    "        wl: [μm] wavelength\n",
    "    \"\"\"\n",
    "    prop_i = jnp.exp(1j * 2 * jnp.pi * ni * di / wl)\n",
    "    sdict = {\n",
    "        (\"left\", \"right\"): prop_i,\n",
    "        (\"right\", \"left\"): prop_i,\n",
    "    }\n",
    "    return sdict"
   ]
  },
  {
   "cell_type": "markdown",
   "metadata": {},
   "source": [
    "## Layers\n",
    "let's set up the sax components for the different layers"
   ]
  },
  {
   "cell_type": "code",
   "execution_count": 161,
   "metadata": {},
   "outputs": [],
   "source": [
    "identity = fresnel_mirror_ij(1, 1)"
   ]
  },
  {
   "cell_type": "code",
   "execution_count": 162,
   "metadata": {},
   "outputs": [],
   "source": [
    "propagations=[propagation_i(ni, di) for ni, di in zip(ns, ds)]\n",
    "propagations=[identity]+propagations+[identity]\n",
    "propagations = {f\"p_{i}\": sax.sdense(p) for i, p in enumerate(propagations)}"
   ]
  },
  {
   "cell_type": "code",
   "execution_count": 163,
   "metadata": {},
   "outputs": [],
   "source": [
    "padded_ns = [1]+ns+[1]\n",
    "interfaces=[fresnel_mirror_ij(ni, nj) for ni, nj in zip(padded_ns, padded_ns[1:])]\n",
    "#interfaces=[identity]+interfaces+[identity]\n",
    "interfaces = {f\"i_{i}_{i+1}\": sax.sdense(p) for i, p in enumerate(interfaces)}"
   ]
  },
  {
   "cell_type": "markdown",
   "metadata": {},
   "source": [
    "## Propagate Interface Pairs \n",
    "Combine successive propagation sections and interfaces into Propagate Interface Pairs (pi_pairs)."
   ]
  },
  {
   "cell_type": "code",
   "execution_count": 164,
   "metadata": {},
   "outputs": [],
   "source": [
    "pairs = meow.eme.propagate.pi_pairs(propagations, interfaces, sax_backend)"
   ]
  },
  {
   "cell_type": "markdown",
   "metadata": {},
   "source": [
    "## Accumulate\n",
    "Split the whole device into left and right sections with the split moving from left to right"
   ]
  },
  {
   "cell_type": "code",
   "execution_count": 165,
   "metadata": {},
   "outputs": [],
   "source": [
    "l2rs = meow.eme.propagate.l2r_matrices(pairs, identity, sax_backend)\n",
    "r2ls = meow.eme.propagate.r2l_matrices(pairs, sax_backend)"
   ]
  },
  {
   "cell_type": "markdown",
   "metadata": {},
   "source": [
    "## Excite from the left"
   ]
  },
  {
   "cell_type": "code",
   "execution_count": 166,
   "metadata": {},
   "outputs": [],
   "source": [
    "ex_l = jnp.array([1])\n",
    "ex_r = jnp.array([0])"
   ]
  },
  {
   "cell_type": "markdown",
   "metadata": {},
   "source": [
    "## Calculate Amplitudes\n",
    "TODO: explain how it works"
   ]
  },
  {
   "cell_type": "code",
   "execution_count": 167,
   "metadata": {},
   "outputs": [],
   "source": [
    "forwards, backwards = meow.eme.propagate.propagate(l2rs, r2ls, ex_l, ex_r)"
   ]
  },
  {
   "cell_type": "code",
   "execution_count": 168,
   "metadata": {},
   "outputs": [],
   "source": [
    "def fields(padded_ns, xi, forwards, backwards, x):\n",
    "    \"\"\"Calculates the fields within a stack at given positions x\n",
    "    Attention xi > 0\n",
    "    \"\"\"\n",
    "    xi = onp.concatenate([[-onp.inf, 0], xi, [onp.inf]])\n",
    "    E_tot = onp.zeros((len(x),), dtype=complex)\n",
    "    for n, forward, backward, x_min, x_max in zip(padded_ns, forwards, backwards, xi, xi[1:]):\n",
    "        print(f\"{n}: {x_min} - {x_max}: -> {forward[0]}; <- {backward[0]}\")\n",
    "        i_min = onp.argmax(x >= x_min)\n",
    "        i_max = onp.argmax(x > x_max)\n",
    "        if i_max == 0:\n",
    "            x_ = x[i_min:]\n",
    "        else:\n",
    "            x_ = x[i_min:i_max]\n",
    "\n",
    "        if onp.isinf(x_min):\n",
    "            x_local = x_\n",
    "        else:\n",
    "            x_local = x_ - x_min\n",
    "        E_local = forward*onp.exp(2j * onp.pi * n / wl * x_local)\n",
    "        E_local += backward*onp.exp(-2j * onp.pi * n / wl * x_local)\n",
    "\n",
    "        if i_max == 0:\n",
    "            E_tot[i_min:] = E_local\n",
    "        else:\n",
    "            E_tot[i_min:i_max] = E_local\n",
    "            \n",
    "    return E_tot"
   ]
  },
  {
   "cell_type": "code",
   "execution_count": 169,
   "metadata": {},
   "outputs": [
    {
     "name": "stdout",
     "output_type": "stream",
     "text": [
      "1: -inf - 0.0: -> (1+0j); <- (-0.4008501745111759-0.09674582350902057j)\n",
      "(2+0.04j): 0.0 - 1.0: -> (1.3015098292145932-0.03638991524473367j); <- (-0.0993403452965833-0.13313573875375437j)\n",
      "1: 1.0 - inf: -> (0.2209528060765665-0.48918360894612245j); <- 0j\n"
     ]
    }
   ],
   "source": [
    "x = jnp.linspace(-0.5, 2, 400)\n",
    "field = fields(padded_ns, xi, forwards, backwards, x)"
   ]
  },
  {
   "cell_type": "code",
   "execution_count": 173,
   "metadata": {},
   "outputs": [
    {
     "data": {
      "text/plain": [
       "Text(0, 0.5, '$|E(x)|$')"
      ]
     },
     "execution_count": 173,
     "metadata": {},
     "output_type": "execute_result"
    },
    {
     "data": {
      "image/png": "[encoded data removed]",
      "text/plain": [
       "<Figure size 600x450 with 1 Axes>"
      ]
     },
     "metadata": {},
     "output_type": "display_data"
    }
   ],
   "source": [
    "plt.plot(x, onp.abs(field))\n",
    "plt.axhline(1, color=\"k\", linestyle=\"--\")\n",
    "plt.ylim((0, None))\n",
    "plt.xlabel(\"x [$\\mu$m]\")\n",
    "plt.ylabel(\"$|E(x)|$\")"
   ]
  },
  {
   "cell_type": "code",
   "execution_count": null,
   "metadata": {},
   "outputs": [],
   "source": []
  },
  {
   "cell_type": "code",
   "execution_count": null,
   "metadata": {},
   "outputs": [],
   "source": []
  }
 ],
 "metadata": {
  "kernelspec": {
   "display_name": "meow",
   "language": "python",
   "name": "python3"
  },
  "language_info": {
   "codemirror_mode": {
    "name": "ipython",
    "version": 3
   },
   "file_extension": ".py",
   "mimetype": "text/x-python",
   "name": "python",
   "nbconvert_exporter": "python",
   "pygments_lexer": "ipython3",
   "version": "3.11.8"
  }
 },
 "nbformat": 4,
 "nbformat_minor": 2
}
