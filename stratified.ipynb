{
 "cells": [
  {
   "cell_type": "markdown",
   "metadata": {},
   "source": [
    "# A simple simulator for Stratified media under normal incidence"
   ]
  },
  {
   "cell_type": "markdown",
   "metadata": {},
   "source": [
    "## Imports"
   ]
  },
  {
   "cell_type": "code",
   "execution_count": 34,
   "metadata": {},
   "outputs": [],
   "source": [
    "import jax\n",
    "import jax.numpy as jnp\n",
    "import numpy as onp\n",
    "import matplotlib.pyplot as plt\n",
    "from scipy.constants import epsilon_0, c as c0"
   ]
  },
  {
   "cell_type": "code",
   "execution_count": 2,
   "metadata": {},
   "outputs": [],
   "source": [
    "import sax\n",
    "import meow\n",
    "import meow.eme.propagate\n",
    "from sax.backends import circuit_backends\n",
    "from sax.saxtypes import scoo\n",
    "sax_backend = meow.eme.sax._validate_sax_backend(\"klu\")"
   ]
  },
  {
   "cell_type": "markdown",
   "metadata": {},
   "source": [
    "## Layer Stack"
   ]
  },
  {
   "cell_type": "code",
   "execution_count": 18,
   "metadata": {},
   "outputs": [],
   "source": [
    "ns = [2, 1.889+0.0035j, 1.802+0.0562j, 2.321+0.291j, 1.519+0.0043j]\n",
    "ds = [1, 0.15, 0.03, 0.3, 0.2]\n",
    "wl = 0.524\n",
    "xi = jnp.cumsum(jnp.array(ds))"
   ]
  },
  {
   "cell_type": "markdown",
   "metadata": {},
   "source": [
    "## Fresnel and Propagation"
   ]
  },
  {
   "cell_type": "code",
   "execution_count": 19,
   "metadata": {},
   "outputs": [],
   "source": [
    "def fresnel_mirror_ij(ni=1.0, nj=1.0):\n",
    "    \"\"\"Model a (fresnel) interface between twoo refractive indices\n",
    "\n",
    "    Args:\n",
    "        ni: refractive index of the initial medium\n",
    "        nf: refractive index of the final\n",
    "    \"\"\"\n",
    "    r_fresnel_ij = (ni - nj) / (ni + nj)  # i->j reflection\n",
    "    t_fresnel_ij = 2 * ni / (ni + nj)  # i->j transmission\n",
    "    r_fresnel_ji = -r_fresnel_ij  # j -> i reflection\n",
    "    t_fresnel_ji = (1 - r_fresnel_ij**2) / t_fresnel_ij  # j -> i transmission\n",
    "    sdict = {\n",
    "        (\"left\", \"left\"): r_fresnel_ij,\n",
    "        (\"left\", \"right\"): t_fresnel_ij,\n",
    "        (\"right\", \"left\"): t_fresnel_ji,\n",
    "        (\"right\", \"right\"): r_fresnel_ji,\n",
    "    }\n",
    "    return sdict\n",
    "\n",
    "\n",
    "def propagation_i(ni=1.0, di=0.5, wl=wl):\n",
    "    \"\"\"Model the phase shift acquired as a wave propagates through medium A\n",
    "\n",
    "    Args:\n",
    "        ni: refractive index of medium (at wavelength wl)\n",
    "        di: [μm] thickness of layer\n",
    "        wl: [μm] wavelength\n",
    "    \"\"\"\n",
    "    prop_i = jnp.exp(1j * 2 * jnp.pi * ni * di / wl)\n",
    "    sdict = {\n",
    "        (\"left\", \"right\"): prop_i,\n",
    "        (\"right\", \"left\"): prop_i,\n",
    "    }\n",
    "    return sdict"
   ]
  },
  {
   "cell_type": "markdown",
   "metadata": {},
   "source": [
    "## Layers\n",
    "let's set up the sax components for the different layers"
   ]
  },
  {
   "cell_type": "code",
   "execution_count": 20,
   "metadata": {},
   "outputs": [],
   "source": [
    "identity = fresnel_mirror_ij(1, 1)"
   ]
  },
  {
   "cell_type": "code",
   "execution_count": 21,
   "metadata": {},
   "outputs": [],
   "source": [
    "propagations=[propagation_i(ni, di) for ni, di in zip(ns, ds)]\n",
    "propagations=[identity]+propagations+[identity]\n",
    "propagations = {f\"p_{i}\": sax.sdense(p) for i, p in enumerate(propagations)}"
   ]
  },
  {
   "cell_type": "code",
   "execution_count": 22,
   "metadata": {},
   "outputs": [],
   "source": [
    "padded_ns = [1]+ns+[1]\n",
    "interfaces=[fresnel_mirror_ij(ni, nj) for ni, nj in zip(padded_ns, padded_ns[1:])]\n",
    "#interfaces=[identity]+interfaces+[identity]\n",
    "interfaces = {f\"i_{i}_{i+1}\": sax.sdense(p) for i, p in enumerate(interfaces)}"
   ]
  },
  {
   "cell_type": "markdown",
   "metadata": {},
   "source": [
    "## Propagate Interface Pairs \n",
    "Combine successive propagation sections and interfaces into Propagate Interface Pairs (pi_pairs)."
   ]
  },
  {
   "cell_type": "code",
   "execution_count": 23,
   "metadata": {},
   "outputs": [],
   "source": [
    "pairs = meow.eme.propagate.pi_pairs(propagations, interfaces, sax_backend)"
   ]
  },
  {
   "cell_type": "code",
   "execution_count": 24,
   "metadata": {},
   "outputs": [
    {
     "data": {
      "text/plain": [
       "[(Array([[-0.33333333+0.j,  0.66666667+0.j],\n",
       "         [ 1.33333333+0.j,  0.33333333+0.j]], dtype=complex128),\n",
       "  {'left': 0, 'right': 1}),\n",
       " (Array([[-0.01975275-2.06224702e-02j,  0.41825105-9.39661605e-01j],\n",
       "         [ 0.39668253-8.86778446e-01j, -0.02854121+9.25660640e-04j]],      dtype=complex128),\n",
       "  {'left': 0, 'right': 1}),\n",
       " (Array([[ 0.02717729-0.00132731j, -0.9874581 -0.24341025j],\n",
       "         [-0.93521932-0.25984497j, -0.0233338 +0.01465539j]],      dtype=complex128),\n",
       "  {'left': 0, 'right': 1}),\n",
       " (Array([[0.00878516-0.13192698j, 0.70706964+0.47896054j],\n",
       "         [0.85533807+0.70441435j, 0.12975476+0.04602211j]],      dtype=complex128),\n",
       "  {'left': 0, 'right': 1}),\n",
       " (Array([[-0.00841235-0.02592388j, -0.22041826+0.36506186j],\n",
       "         [-0.11324729+0.25270837j, -0.2133341 -0.05825584j]],      dtype=complex128),\n",
       "  {'left': 0, 'right': 1}),\n",
       " (Array([[ 0.1075173 +0.17081393j, -1.0461972 -0.57472254j],\n",
       "         [-0.68980628-0.37640314j, -0.20603645-0.00135532j]],      dtype=complex128),\n",
       "  {'left': 0, 'right': 1}),\n",
       " (Array([[0.+0.j, 1.+0.j],\n",
       "         [1.+0.j, 0.+0.j]], dtype=complex128),\n",
       "  {'left': 0, 'right': 1})]"
      ]
     },
     "execution_count": 24,
     "metadata": {},
     "output_type": "execute_result"
    }
   ],
   "source": [
    "pairs"
   ]
  },
  {
   "cell_type": "markdown",
   "metadata": {},
   "source": [
    "## Accumulate\n",
    "Split the whole device into left and right sections with the split moving from left to right"
   ]
  },
  {
   "cell_type": "code",
   "execution_count": 25,
   "metadata": {},
   "outputs": [],
   "source": [
    "l2rs = meow.eme.propagate.l2r_matrices(pairs, identity, sax_backend)\n",
    "r2ls = meow.eme.propagate.r2l_matrices(pairs, sax_backend)"
   ]
  },
  {
   "cell_type": "markdown",
   "metadata": {},
   "source": [
    "## Excite from the left"
   ]
  },
  {
   "cell_type": "code",
   "execution_count": 26,
   "metadata": {},
   "outputs": [],
   "source": [
    "ex_l = jnp.array([1])\n",
    "ex_r = jnp.array([0])"
   ]
  },
  {
   "cell_type": "markdown",
   "metadata": {},
   "source": [
    "## Calculate Amplitudes\n",
    "TODO: explain how it works"
   ]
  },
  {
   "cell_type": "code",
   "execution_count": 27,
   "metadata": {},
   "outputs": [],
   "source": [
    "forwards, backwards = meow.eme.propagate.propagate(l2rs, r2ls, ex_l, ex_r)"
   ]
  },
  {
   "cell_type": "code",
   "execution_count": 28,
   "metadata": {},
   "outputs": [
    {
     "data": {
      "text/plain": [
       "[Array([1.+0.j], dtype=complex128),\n",
       " Array([1.25383339-0.02367114j], dtype=complex128),\n",
       " Array([0.47782442-1.11538203j], dtype=complex128),\n",
       " Array([-0.74117674+0.9167206j], dtype=complex128),\n",
       " Array([-1.28082908+0.27057417j], dtype=complex128),\n",
       " Array([0.06083769-0.35234047j], dtype=complex128),\n",
       " Array([-0.17458828+0.22014717j], dtype=complex128)]"
      ]
     },
     "execution_count": 28,
     "metadata": {},
     "output_type": "execute_result"
    }
   ],
   "source": [
    "forwards"
   ]
  },
  {
   "cell_type": "code",
   "execution_count": 29,
   "metadata": {},
   "outputs": [
    {
     "data": {
      "text/plain": [
       "[Array([-0.49233321-0.04734227j], dtype=complex128),\n",
       " Array([-0.23849982-0.07101341j], dtype=complex128),\n",
       " Array([-0.04378398-0.20744947j], dtype=complex128),\n",
       " Array([0.09432121+0.15549362j], dtype=complex128),\n",
       " Array([0.01311736+0.0613464j], dtype=complex128),\n",
       " Array([0.06672576-0.02749077j], dtype=complex128),\n",
       " Array([0.+0.j], dtype=complex128)]"
      ]
     },
     "execution_count": 29,
     "metadata": {},
     "output_type": "execute_result"
    }
   ],
   "source": [
    "backwards"
   ]
  },
  {
   "cell_type": "code",
   "execution_count": 89,
   "metadata": {},
   "outputs": [],
   "source": [
    "def fields(padded_ns, xi, forwards, backwards, x):\n",
    "    \"\"\"Calculates the fields within a stack at given positions x\n",
    "    Attention xi > 0\n",
    "    \"\"\"\n",
    "    xi = onp.concatenate([[-onp.inf, 0], xi, [onp.inf]])\n",
    "    E_tot = onp.zeros((len(x),), dtype=complex)\n",
    "    Abs_tot = onp.zeros((len(x),), dtype=complex)\n",
    "    for n, forward, backward, x_min, x_max in zip(padded_ns, forwards, backwards, xi, xi[1:]):\n",
    "        has_contribution = onp.any(onp.logical_and(x > x_min, x < x_max))\n",
    "        if not has_contribution:\n",
    "            continue\n",
    "        #print(f\"{n}: {x_min} - {x_max}: -> {forward[0]}; <- {backward[0]}\")\n",
    "        i_min = onp.argmax(x >= x_min)\n",
    "        i_max = onp.argmax(x > x_max)\n",
    "        \n",
    "        if i_max == 0:\n",
    "            x_ = x[i_min:]\n",
    "        else:\n",
    "            x_ = x[i_min:i_max]\n",
    "\n",
    "        if onp.isinf(x_min):\n",
    "            x_local = x_\n",
    "        else:\n",
    "            x_local = x_ - x_min\n",
    "        E_local = forward*onp.exp(2j * onp.pi * n / wl * x_local)\n",
    "        E_local += backward*onp.exp(-2j * onp.pi * n / wl * x_local)\n",
    "\n",
    "        if i_max == 0:\n",
    "            E_tot[i_min:] = E_local\n",
    "        else:\n",
    "            E_tot[i_min:i_max] = E_local\n",
    "\n",
    "        eps = n**2 * epsilon_0\n",
    "        omega = 2 * onp.pi * c0/wl\n",
    "        Abs_local = 0.5* omega * eps.imag * onp.abs(E_local)**2\n",
    "        if i_max == 0:\n",
    "            Abs_tot[i_min:] = Abs_local\n",
    "        else:\n",
    "            Abs_tot[i_min:i_max] = Abs_local\n",
    "            \n",
    "    return E_tot, Abs_tot"
   ]
  },
  {
   "cell_type": "code",
   "execution_count": 94,
   "metadata": {},
   "outputs": [],
   "source": [
    "x = jnp.linspace(xi[-3]-0.1, xi[-2]+0.1, 400)\n",
    "field, absorption = fields(padded_ns, xi, forwards, backwards, x)"
   ]
  },
  {
   "cell_type": "code",
   "execution_count": 95,
   "metadata": {},
   "outputs": [
    {
     "data": {
      "text/plain": [
       "Text(0, 0.5, '$|E(x)|$')"
      ]
     },
     "execution_count": 95,
     "metadata": {},
     "output_type": "execute_result"
    },
    {
     "data": {
      "image/png": "[encoded data removed]",
      "text/plain": [
       "<Figure size 600x450 with 1 Axes>"
      ]
     },
     "metadata": {},
     "output_type": "display_data"
    }
   ],
   "source": [
    "plt.plot(x, onp.abs(field))\n",
    "plt.axhline(1, color=\"k\", linestyle=\"--\")\n",
    "plt.ylim((0, None))\n",
    "plt.xlabel(\"x [$\\mu$m]\")\n",
    "plt.ylabel(\"$|E(x)|$\")"
   ]
  },
  {
   "cell_type": "code",
   "execution_count": 96,
   "metadata": {},
   "outputs": [
    {
     "name": "stderr",
     "output_type": "stream",
     "text": [
      "/scratch/local/jdf/conda/envs/meow/lib/python3.11/site-packages/matplotlib/cbook.py:1699: ComplexWarning: Casting complex values to real discards the imaginary part\n",
      "  return math.isfinite(val)\n",
      "/scratch/local/jdf/conda/envs/meow/lib/python3.11/site-packages/matplotlib/cbook.py:1345: ComplexWarning: Casting complex values to real discards the imaginary part\n",
      "  return np.asarray(x, float)\n"
     ]
    },
    {
     "data": {
      "text/plain": [
       "Text(0, 0.5, 'Absorption')"
      ]
     },
     "execution_count": 96,
     "metadata": {},
     "output_type": "execute_result"
    },
    {
     "data": {
      "image/png": "[encoded data removed]",
      "text/plain": [
       "<Figure size 600x450 with 1 Axes>"
      ]
     },
     "metadata": {},
     "output_type": "display_data"
    }
   ],
   "source": [
    "plt.plot(x, absorption)\n",
    "plt.axhline(0, color=\"k\", linestyle=\"--\")\n",
    "plt.xlabel(\"x [$\\mu$m]\")\n",
    "plt.ylabel(\"Absorption\")\n",
    "\n"
   ]
  },
  {
   "cell_type": "code",
   "execution_count": null,
   "metadata": {},
   "outputs": [],
   "source": []
  },
  {
   "cell_type": "code",
   "execution_count": null,
   "metadata": {},
   "outputs": [],
   "source": []
  }
 ],
 "metadata": {
  "kernelspec": {
   "display_name": "meow",
   "language": "python",
   "name": "python3"
  },
  "language_info": {
   "codemirror_mode": {
    "name": "ipython",
    "version": 3
   },
   "file_extension": ".py",
   "mimetype": "text/x-python",
   "name": "python",
   "nbconvert_exporter": "python",
   "pygments_lexer": "ipython3",
   "version": "3.11.8"
  }
 },
 "nbformat": 4,
 "nbformat_minor": 2
}
