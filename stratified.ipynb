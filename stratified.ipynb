{
 "cells": [
  {
   "cell_type": "markdown",
   "metadata": {},
   "source": [
    "# A simple simulator for Stratified media under normal incidence"
   ]
  },
  {
   "cell_type": "markdown",
   "metadata": {},
   "source": [
    "## Imports"
   ]
  },
  {
   "cell_type": "code",
   "execution_count": 1,
   "metadata": {},
   "outputs": [],
   "source": [
    "import jax\n",
    "import jax.numpy as jnp\n",
    "import numpy as onp\n",
    "import matplotlib.pyplot as plt\n",
    "from scipy.constants import epsilon_0, c as c0"
   ]
  },
  {
   "cell_type": "code",
   "execution_count": 2,
   "metadata": {},
   "outputs": [],
   "source": [
    "import sax\n",
    "import meow\n",
    "import meow.eme.propagate\n",
    "from sax.backends import circuit_backends\n",
    "from sax.saxtypes import scoo\n",
    "sax_backend = meow.eme.sax._validate_sax_backend(\"klu\")"
   ]
  },
  {
   "cell_type": "markdown",
   "metadata": {},
   "source": [
    "## Layer Stack"
   ]
  },
  {
   "cell_type": "code",
   "execution_count": 3,
   "metadata": {},
   "outputs": [],
   "source": [
    "ns = [2, 1.889+0.0035j, 1.802+0.0562j, 2.321+0.291j, 1.519+0.0043j]\n",
    "ds = [1, 0.15, 0.03, 0.3, 0.2]\n",
    "# ns = [2]\n",
    "# ds = [0.3]\n",
    "wl = 1\n",
    "xi = jnp.cumsum(jnp.array(ds))"
   ]
  },
  {
   "cell_type": "markdown",
   "metadata": {},
   "source": [
    "## Fresnel and Propagation"
   ]
  },
  {
   "cell_type": "code",
   "execution_count": 4,
   "metadata": {},
   "outputs": [],
   "source": [
    "def fresnel_mirror_ij(ni=1.0, nj=1.0):\n",
    "    \"\"\"Model a (fresnel) interface between twoo refractive indices\n",
    "\n",
    "    Args:\n",
    "        ni: refractive index of the initial medium\n",
    "        nf: refractive index of the final\n",
    "    \"\"\"\n",
    "    r_fresnel_ij = (ni - nj) / (ni + nj)  # i->j reflection\n",
    "    t_fresnel_ij = 2 * ni / (ni + nj)  # i->j transmission\n",
    "    r_fresnel_ji = -r_fresnel_ij  # j -> i reflection\n",
    "    t_fresnel_ji = (1 - r_fresnel_ij**2) / t_fresnel_ij  # j -> i transmission 2 * nj / (ni + nj)#\n",
    "    sdict = {\n",
    "        (\"left\", \"left\"): r_fresnel_ij,\n",
    "        (\"left\", \"right\"): t_fresnel_ij,\n",
    "        (\"right\", \"left\"): t_fresnel_ji,\n",
    "        (\"right\", \"right\"): r_fresnel_ji,\n",
    "    }\n",
    "    return sdict\n",
    "\n",
    "\n",
    "def propagation_i(ni=1.0, di=0.5, wl=wl):\n",
    "    \"\"\"Model the phase shift acquired as a wave propagates through medium A\n",
    "\n",
    "    Args:\n",
    "        ni: refractive index of medium (at wavelength wl)\n",
    "        di: [μm] thickness of layer\n",
    "        wl: [μm] wavelength\n",
    "    \"\"\"\n",
    "    prop_i = jnp.exp(1j * 2 * jnp.pi * ni * di / wl)\n",
    "    sdict = {\n",
    "        (\"left\", \"right\"): prop_i,\n",
    "        (\"right\", \"left\"): prop_i,\n",
    "    }\n",
    "    return sdict"
   ]
  },
  {
   "cell_type": "code",
   "execution_count": 5,
   "metadata": {},
   "outputs": [
    {
     "data": {
      "text/plain": [
       "{('left', 'left'): -0.3333333333333333,\n",
       " ('left', 'right'): 0.6666666666666666,\n",
       " ('right', 'left'): 1.3333333333333333,\n",
       " ('right', 'right'): 0.3333333333333333}"
      ]
     },
     "execution_count": 5,
     "metadata": {},
     "output_type": "execute_result"
    }
   ],
   "source": [
    "fresnel_mirror_ij(ni=1.0, nj=2)"
   ]
  },
  {
   "cell_type": "markdown",
   "metadata": {},
   "source": [
    "## Layers\n",
    "let's set up the sax components for the different layers"
   ]
  },
  {
   "cell_type": "code",
   "execution_count": 6,
   "metadata": {},
   "outputs": [],
   "source": [
    "identity = fresnel_mirror_ij(1, 1)"
   ]
  },
  {
   "cell_type": "code",
   "execution_count": 7,
   "metadata": {},
   "outputs": [],
   "source": [
    "propagations=[propagation_i(ni, di) for ni, di in zip(ns, ds)]\n",
    "propagations=[identity]+propagations+[identity]\n",
    "propagations = {f\"p_{i}\": sax.sdense(p) for i, p in enumerate(propagations)}"
   ]
  },
  {
   "cell_type": "code",
   "execution_count": 8,
   "metadata": {},
   "outputs": [],
   "source": [
    "padded_ns = [1]+ns+[1]\n",
    "interfaces=[fresnel_mirror_ij(ni, nj) for ni, nj in zip(padded_ns, padded_ns[1:])]\n",
    "#interfaces=[identity]+interfaces+[identity]\n",
    "interfaces = {f\"i_{i}_{i+1}\": sax.sdense(p) for i, p in enumerate(interfaces)}"
   ]
  },
  {
   "cell_type": "markdown",
   "metadata": {},
   "source": [
    "## Propagate Interface Pairs \n",
    "Combine successive propagation sections and interfaces into Propagate Interface Pairs (pi_pairs)."
   ]
  },
  {
   "cell_type": "code",
   "execution_count": 9,
   "metadata": {},
   "outputs": [],
   "source": [
    "pairs = meow.eme.propagate.pi_pairs(propagations, interfaces, sax_backend)"
   ]
  },
  {
   "cell_type": "markdown",
   "metadata": {},
   "source": [
    "## Accumulate\n",
    "Split the whole device into left and right sections with the split moving from left to right"
   ]
  },
  {
   "cell_type": "code",
   "execution_count": 10,
   "metadata": {},
   "outputs": [],
   "source": [
    "l2rs = meow.eme.propagate.l2r_matrices(pairs, identity, sax_backend)\n",
    "r2ls = meow.eme.propagate.r2l_matrices(pairs, sax_backend)"
   ]
  },
  {
   "cell_type": "markdown",
   "metadata": {},
   "source": [
    "## Excite from the left"
   ]
  },
  {
   "cell_type": "code",
   "execution_count": 11,
   "metadata": {},
   "outputs": [],
   "source": [
    "ex_l = jnp.array([1])\n",
    "ex_r = jnp.array([0])"
   ]
  },
  {
   "cell_type": "markdown",
   "metadata": {},
   "source": [
    "## Calculate Amplitudes\n",
    "TODO: explain how it works"
   ]
  },
  {
   "cell_type": "code",
   "execution_count": 12,
   "metadata": {},
   "outputs": [
    {
     "data": {
      "text/plain": [
       "[{('left', 'left'): 0.0,\n",
       "  ('left', 'right'): 1.0,\n",
       "  ('right', 'left'): 1.0,\n",
       "  ('right', 'right'): -0.0},\n",
       " (Array([[-0.33333333+0.j,  0.66666667+0.j],\n",
       "         [ 1.33333333+0.j,  0.33333333+0.j]], dtype=complex128),\n",
       "  {'left': 0, 'right': 1}),\n",
       " (Array([[-0.30771995-0.00083869j,  0.69228005-0.00083869j],\n",
       "         [ 1.30771995+0.00083869j,  0.30771995+0.00083869j]],      dtype=complex128),\n",
       "  {'left': 0, 'right': 1}),\n",
       " (Array([[-0.33205182+0.0026183j , -0.13581737+0.68703481j],\n",
       "         [-0.28335426+1.23040378j, -0.2996087 -0.10993471j]],      dtype=complex128),\n",
       "  {'left': 0, 'right': 1}),\n",
       " (Array([[-0.32166488+0.12226765j, -0.30473294+0.5267063j ],\n",
       "         [-0.86055669+1.13380805j, -0.02153198-0.22482351j]],      dtype=complex128),\n",
       "  {'left': 0, 'right': 1}),\n",
       " (Array([[-0.27584913+0.16761167j,  0.41715351+0.10642717j],\n",
       "         [ 0.63319855+0.16345664j, -0.16203636-0.00655842j]],      dtype=complex128),\n",
       "  {'left': 0, 'right': 1}),\n",
       " (Array([[-0.29675419+0.11262296j, -0.30388136+0.43351056j],\n",
       "         [-0.30388136+0.43351056j, -0.08956886+0.10464134j]],      dtype=complex128),\n",
       "  {'left': 0, 'right': 1})]"
      ]
     },
     "execution_count": 12,
     "metadata": {},
     "output_type": "execute_result"
    }
   ],
   "source": [
    "l2rs"
   ]
  },
  {
   "cell_type": "code",
   "execution_count": 13,
   "metadata": {},
   "outputs": [
    {
     "data": {
      "text/plain": [
       "[(Array([[-0.29675419+0.11262296j, -0.30388136+0.43351056j],\n",
       "         [-0.30388136+0.43351056j, -0.08956886+0.10464134j]],      dtype=complex128),\n",
       "  {'left': 0, 'right': 1}),\n",
       " (Array([[ 0.04572253+0.12308147j, -0.42219637+0.65905633j],\n",
       "         [-0.21109818+0.32952816j, -0.05021629+0.20046672j]],      dtype=complex128),\n",
       "  {'left': 0, 'right': 1}),\n",
       " (Array([[ 0.01677393+0.12424164j, -0.41356207+0.63932711j],\n",
       "         [-0.21830391+0.33885186j, -0.05410692+0.19261899j]],      dtype=complex128),\n",
       "  {'left': 0, 'right': 1}),\n",
       " (Array([[-0.08951175-0.09228936j,  0.69133676+0.2746098j ],\n",
       "         [ 0.38802501+0.14029012j, -0.04573579+0.19401348j]],      dtype=complex128),\n",
       "  {'left': 0, 'right': 1}),\n",
       " (Array([[-0.00086129+0.03061557j,  0.86071608+0.07536907j],\n",
       "         [ 0.36910765-0.01380493j, -0.08623208+0.17714298j]],      dtype=complex128),\n",
       "  {'left': 0, 'right': 1}),\n",
       " (Array([[-0.15814967-0.12858383j, -0.39907938+1.13120594j],\n",
       "         [-0.26061486+0.74544212j, -0.20603645-0.00135532j]],      dtype=complex128),\n",
       "  {'left': 0, 'right': 1}),\n",
       " (Array([[0.+0.j, 1.+0.j],\n",
       "         [1.+0.j, 0.+0.j]], dtype=complex128),\n",
       "  {'left': 0, 'right': 1}),\n",
       " (Array([[0.+0.j, 1.+0.j],\n",
       "         [1.+0.j, 0.+0.j]], dtype=complex128),\n",
       "  {'left': 0, 'right': 1})]"
      ]
     },
     "execution_count": 13,
     "metadata": {},
     "output_type": "execute_result"
    }
   ],
   "source": [
    "r2ls"
   ]
  },
  {
   "cell_type": "code",
   "execution_count": 14,
   "metadata": {},
   "outputs": [],
   "source": [
    "forwards, backwards = meow.eme.propagate.propagate(l2rs, r2ls, ex_l, ex_r)"
   ]
  },
  {
   "cell_type": "code",
   "execution_count": 15,
   "metadata": {},
   "outputs": [
    {
     "data": {
      "text/plain": [
       "[Array([1.+0.j], dtype=complex128),\n",
       " Array([1.35162291+0.05631148j], dtype=complex128),\n",
       " Array([1.31239567+0.05129159j], dtype=complex128),\n",
       " Array([-0.33537791+1.23847886j], dtype=complex128),\n",
       " Array([-0.8660018+1.14209356j], dtype=complex128),\n",
       " Array([0.64520592+0.18208135j], dtype=complex128),\n",
       " Array([-0.30388136+0.43351056j], dtype=complex128)]"
      ]
     },
     "execution_count": 15,
     "metadata": {},
     "output_type": "execute_result"
    }
   ],
   "source": [
    "forwards"
   ]
  },
  {
   "cell_type": "code",
   "execution_count": 16,
   "metadata": {},
   "outputs": [
    {
     "data": {
      "text/plain": [
       "[Array([-0.29675419+0.11262296j], dtype=complex128),\n",
       " Array([0.05486872+0.16893444j], dtype=complex128),\n",
       " Array([0.01564149+0.16391455j], dtype=complex128),\n",
       " Array([0.14431869-0.0799066j], dtype=complex128),\n",
       " Array([-0.03421996-0.02749681j], dtype=complex128),\n",
       " Array([-0.07862639-0.11175916j], dtype=complex128),\n",
       " Array([0.+0.j], dtype=complex128)]"
      ]
     },
     "execution_count": 16,
     "metadata": {},
     "output_type": "execute_result"
    }
   ],
   "source": [
    "backwards"
   ]
  },
  {
   "cell_type": "code",
   "execution_count": 17,
   "metadata": {},
   "outputs": [],
   "source": [
    "def fields(padded_ns, xi, forwards, backwards, x):\n",
    "    \"\"\"Calculates the fields within a stack at given positions x\n",
    "    Attention xi > 0\n",
    "    \"\"\"\n",
    "    xi = onp.concatenate([[-onp.inf, 0], xi, [onp.inf]])\n",
    "    E_tot = onp.zeros((len(x),), dtype=complex)\n",
    "    Abs_tot = onp.zeros((len(x),), dtype=complex)\n",
    "    for n, forward, backward, x_min, x_max in zip(padded_ns, forwards, backwards, xi, xi[1:]):\n",
    "        has_contribution = onp.any(onp.logical_and(x > x_min, x < x_max))\n",
    "        if not has_contribution:\n",
    "            continue\n",
    "        #print(f\"{n}: {x_min} - {x_max}: -> {forward[0]}; <- {backward[0]}\")\n",
    "        i_min = onp.argmax(x >= x_min)\n",
    "        i_max = onp.argmax(x > x_max)\n",
    "        \n",
    "        if i_max == 0:\n",
    "            x_ = x[i_min:]\n",
    "        else:\n",
    "            x_ = x[i_min:i_max]\n",
    "\n",
    "        if onp.isinf(x_min):\n",
    "            x_local = x_\n",
    "        else:\n",
    "            x_local = x_ - x_min\n",
    "        E_local = forward*onp.exp(2j * onp.pi * n / wl * x_local)\n",
    "        E_local -= backward*onp.exp(-2j * onp.pi * n / wl * x_local)\n",
    "\n",
    "        if i_max == 0:\n",
    "            E_tot[i_min:] = E_local\n",
    "        else:\n",
    "            E_tot[i_min:i_max] = E_local\n",
    "\n",
    "        eps = n**2 * epsilon_0\n",
    "        omega = 2 * onp.pi * c0/wl\n",
    "        Abs_local = 0.5* omega * eps.imag * onp.abs(E_local)**2\n",
    "        if i_max == 0:\n",
    "            Abs_tot[i_min:] = Abs_local\n",
    "        else:\n",
    "            Abs_tot[i_min:i_max] = Abs_local\n",
    "            \n",
    "    return E_tot, Abs_tot"
   ]
  },
  {
   "cell_type": "code",
   "execution_count": 21,
   "metadata": {},
   "outputs": [],
   "source": [
    "x = jnp.linspace(-1, 2, 400)\n",
    "field, absorption = fields(padded_ns, xi, forwards, backwards, x)"
   ]
  },
  {
   "cell_type": "code",
   "execution_count": 22,
   "metadata": {},
   "outputs": [
    {
     "data": {
      "text/plain": [
       "Text(0, 0.5, '$|E(x)|$')"
      ]
     },
     "execution_count": 22,
     "metadata": {},
     "output_type": "execute_result"
    },
    {
     "data": {
      "image/png": "[encoded data removed]",
      "text/plain": [
       "<Figure size 600x450 with 1 Axes>"
      ]
     },
     "metadata": {},
     "output_type": "display_data"
    }
   ],
   "source": [
    "plt.plot(x, onp.abs(field))\n",
    "#plt.axhline(1, color=\"k\", linestyle=\"--\")\n",
    "#plt.ylim((0, None))\n",
    "plt.xlabel(\"x [$\\mu$m]\")\n",
    "plt.ylabel(\"$|E(x)|$\")"
   ]
  },
  {
   "cell_type": "code",
   "execution_count": 24,
   "metadata": {},
   "outputs": [
    {
     "data": {
      "text/plain": [
       "Text(0, 0.5, 'Absorption')"
      ]
     },
     "execution_count": 24,
     "metadata": {},
     "output_type": "execute_result"
    },
    {
     "data": {
      "image/png": "[encoded data removed]",
      "text/plain": [
       "<Figure size 600x450 with 1 Axes>"
      ]
     },
     "metadata": {},
     "output_type": "display_data"
    }
   ],
   "source": [
    "plt.plot(x, absorption)\n",
    "plt.axhline(0, color=\"k\", linestyle=\"--\")\n",
    "plt.xlabel(\"x [$\\mu$m]\")\n",
    "plt.ylabel(\"Absorption\")\n",
    "\n"
   ]
  },
  {
   "cell_type": "code",
   "execution_count": null,
   "metadata": {},
   "outputs": [],
   "source": []
  },
  {
   "cell_type": "code",
   "execution_count": null,
   "metadata": {},
   "outputs": [],
   "source": []
  }
 ],
 "metadata": {
  "kernelspec": {
   "display_name": "meow",
   "language": "python",
   "name": "python3"
  },
  "language_info": {
   "codemirror_mode": {
    "name": "ipython",
    "version": 3
   },
   "file_extension": ".py",
   "mimetype": "text/x-python",
   "name": "python",
   "nbconvert_exporter": "python",
   "pygments_lexer": "ipython3",
   "version": "3.11.8"
  }
 },
 "nbformat": 4,
 "nbformat_minor": 2
}
