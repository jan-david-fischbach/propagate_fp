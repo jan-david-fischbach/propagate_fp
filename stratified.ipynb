{
 "cells": [
  {
   "cell_type": "markdown",
   "metadata": {},
   "source": [
    "# A simple simulator for Stratified media under normal incidence"
   ]
  },
  {
   "cell_type": "markdown",
   "metadata": {},
   "source": [
    "## Imports"
   ]
  },
  {
   "cell_type": "code",
   "execution_count": 20,
   "metadata": {},
   "outputs": [],
   "source": [
    "import jax\n",
    "import jax.numpy as jnp\n",
    "import numpy as onp\n",
    "import matplotlib.pyplot as plt\n",
    "from scipy.constants import epsilon_0, c as c0"
   ]
  },
  {
   "cell_type": "code",
   "execution_count": 21,
   "metadata": {},
   "outputs": [],
   "source": [
    "import sax\n",
    "import meow\n",
    "import meow.eme.propagate\n",
    "sax_backend = meow.eme.sax._validate_sax_backend(\"klu\")"
   ]
  },
  {
   "cell_type": "markdown",
   "metadata": {},
   "source": [
    "## Layer Stack"
   ]
  },
  {
   "cell_type": "code",
   "execution_count": 22,
   "metadata": {},
   "outputs": [],
   "source": [
    "ns = [2, 1.889+0.0035j, 1.802+0.0562j, 2.321+0.291j, 1.519+9j]\n",
    "ds = [1, 0.15, 0.03, 0.3, 0.2]\n",
    "# ns = [2]\n",
    "# ds = [0.3]\n",
    "# n = 1\n",
    "# ns = [0.01+8j, n, 0.01+8j]\n",
    "# ds = [0.003, 0.385 + 0.6, 0.003] # \n",
    "# ns = [4]\n",
    "# ds = [0.35] # \n",
    "wl = 1.2\n",
    "xi = jnp.cumsum(jnp.array(ds))"
   ]
  },
  {
   "cell_type": "markdown",
   "metadata": {},
   "source": [
    "## Fresnel and Propagation"
   ]
  },
  {
   "cell_type": "code",
   "execution_count": 23,
   "metadata": {},
   "outputs": [],
   "source": [
    "def fresnel_mirror_ij(ni=1.0, nj=1.0):\n",
    "    \"\"\"Model a (fresnel) interface between twoo refractive indices\n",
    "\n",
    "    Args:\n",
    "        ni: refractive index of the initial medium\n",
    "        nf: refractive index of the final\n",
    "    \"\"\"\n",
    "    r_fresnel_ij = (ni - nj) / (ni + nj)  # i->j reflection\n",
    "    t_fresnel_ij = 2 * ni / (ni + nj)  # i->j transmission\n",
    "    r_fresnel_ji = -r_fresnel_ij  # j -> i reflection\n",
    "    t_fresnel_ji = (1 - r_fresnel_ij**2) / t_fresnel_ij  # j -> i transmission 2 * nj / (ni + nj)#\n",
    "    sdict = {\n",
    "        (\"left\", \"left\"): r_fresnel_ij,\n",
    "        (\"left\", \"right\"): t_fresnel_ij,\n",
    "        (\"right\", \"left\"): t_fresnel_ji,\n",
    "        (\"right\", \"right\"): r_fresnel_ji,\n",
    "    }\n",
    "    return sdict\n",
    "\n",
    "\n",
    "def propagation_i(ni=1.0, di=0.5, wl=wl):\n",
    "    \"\"\"Model the phase shift acquired as a wave propagates through medium A\n",
    "\n",
    "    Args:\n",
    "        ni: refractive index of medium (at wavelength wl)\n",
    "        di: [μm] thickness of layer\n",
    "        wl: [μm] wavelength\n",
    "    \"\"\"\n",
    "    prop_i = jnp.exp(1j * 2 * jnp.pi * ni * di / wl)\n",
    "    sdict = {\n",
    "        (\"left\", \"right\"): prop_i,\n",
    "        (\"right\", \"left\"): prop_i,\n",
    "    }\n",
    "    return sdict"
   ]
  },
  {
   "cell_type": "markdown",
   "metadata": {},
   "source": [
    "## Layers\n",
    "let's set up the sax components for the different layers"
   ]
  },
  {
   "cell_type": "code",
   "execution_count": 24,
   "metadata": {},
   "outputs": [],
   "source": [
    "identity = fresnel_mirror_ij(1, 1)"
   ]
  },
  {
   "cell_type": "code",
   "execution_count": 25,
   "metadata": {},
   "outputs": [],
   "source": [
    "propagations=[propagation_i(ni, di) for ni, di in zip(ns, ds)]\n",
    "propagations=[identity]+propagations+[identity]\n",
    "propagations = {f\"p_{i}\": sax.sdense(p) for i, p in enumerate(propagations)}"
   ]
  },
  {
   "cell_type": "code",
   "execution_count": 26,
   "metadata": {},
   "outputs": [],
   "source": [
    "padded_ns = [1]+ns+[1]\n",
    "interfaces=[fresnel_mirror_ij(ni, nj) for ni, nj in zip(padded_ns, padded_ns[1:])]\n",
    "#interfaces=[identity]+interfaces+[identity]\n",
    "interfaces = [sax.sdense(i) for i in interfaces]\n",
    "interfaces = {f\"i_{i}_{i+1}\": (s.T, p) for i, (s, p) in enumerate(interfaces)}"
   ]
  },
  {
   "cell_type": "code",
   "execution_count": 27,
   "metadata": {},
   "outputs": [
    {
     "data": {
      "text/plain": [
       "{'i_0_1': (Array([[-0.33333333+0.j,  1.33333333+0.j],\n",
       "         [ 0.66666667+0.j,  0.33333333+0.j]], dtype=complex128),\n",
       "  {'left': 0, 'right': 1}),\n",
       " 'i_1_2': (Array([[ 0.02854121-0.00092566j,  0.97145879+0.00092566j],\n",
       "         [ 1.02854121-0.00092566j, -0.02854121+0.00092566j]],      dtype=complex128),\n",
       "  {'left': 0, 'right': 1}),\n",
       " 'i_2_3': (Array([[ 0.0233338-0.01465539j,  0.9766662+0.01465539j],\n",
       "         [ 1.0233338-0.01465539j, -0.0233338+0.01465539j]],      dtype=complex128),\n",
       "  {'left': 0, 'right': 1}),\n",
       " 'i_3_4': (Array([[-0.12975476-0.04602211j,  1.12975476+0.04602211j],\n",
       "         [ 0.87024524-0.04602211j,  0.12975476+0.04602211j]],      dtype=complex128),\n",
       "  {'left': 0, 'right': 1}),\n",
       " 'i_4_5': (Array([[-0.77012925-0.40461697j,  1.77012925+0.40461697j],\n",
       "         [ 0.22987075-0.40461697j,  0.77012925+0.40461697j]],      dtype=complex128),\n",
       "  {'left': 0, 'right': 1}),\n",
       " 'i_5_6': (Array([[ 0.94232092+0.20607849j,  0.05767908-0.20607849j],\n",
       "         [ 1.94232092+0.20607849j, -0.94232092-0.20607849j]],      dtype=complex128),\n",
       "  {'left': 0, 'right': 1})}"
      ]
     },
     "execution_count": 27,
     "metadata": {},
     "output_type": "execute_result"
    }
   ],
   "source": [
    "interfaces"
   ]
  },
  {
   "cell_type": "markdown",
   "metadata": {},
   "source": [
    "## Propagate Interface Pairs \n",
    "Combine successive propagation sections and interfaces into Propagate Interface Pairs (pi_pairs)."
   ]
  },
  {
   "cell_type": "code",
   "execution_count": 28,
   "metadata": {},
   "outputs": [],
   "source": [
    "pairs = meow.eme.propagate.pi_pairs(propagations, interfaces, sax_backend)"
   ]
  },
  {
   "cell_type": "markdown",
   "metadata": {},
   "source": [
    "## Accumulate\n",
    "Split the whole device into left and right sections with the split moving from left to right"
   ]
  },
  {
   "cell_type": "code",
   "execution_count": 29,
   "metadata": {},
   "outputs": [],
   "source": [
    "l2rs = meow.eme.propagate.l2r_matrices(pairs, identity, sax_backend)\n",
    "r2ls = meow.eme.propagate.r2l_matrices(pairs, sax_backend)"
   ]
  },
  {
   "cell_type": "markdown",
   "metadata": {},
   "source": [
    "## Excite from the left"
   ]
  },
  {
   "cell_type": "code",
   "execution_count": 30,
   "metadata": {},
   "outputs": [],
   "source": [
    "ex_l = jnp.array([1])\n",
    "ex_r = jnp.array([0])"
   ]
  },
  {
   "cell_type": "markdown",
   "metadata": {},
   "source": [
    "## Calculate Amplitudes"
   ]
  },
  {
   "cell_type": "markdown",
   "metadata": {},
   "source": [
    "### Conventions\n",
    "it seems like sax and meow use different conventions here:\n",
    "we have to transpose "
   ]
  },
  {
   "cell_type": "code",
   "execution_count": 31,
   "metadata": {},
   "outputs": [],
   "source": [
    "# l2rs = [sax.sdense(l2r) for l2r in l2rs]\n",
    "# r2ls = [sax.sdense(r2l) for r2l in r2ls]\n",
    "\n",
    "# l2rs = [(l2r.T, p) for l2r, p in l2rs]\n",
    "# r2ls = [(r2l.T, p) for r2l, p in r2ls]"
   ]
  },
  {
   "cell_type": "code",
   "execution_count": 32,
   "metadata": {},
   "outputs": [],
   "source": [
    "forwards, backwards = meow.eme.propagate.propagate(l2rs, r2ls, ex_l, ex_r)"
   ]
  },
  {
   "cell_type": "code",
   "execution_count": 33,
   "metadata": {},
   "outputs": [
    {
     "data": {
      "text/plain": [
       "Array([[1.00000000e+00],\n",
       "       [5.88804481e-01],\n",
       "       [6.05495781e-01],\n",
       "       [6.20899439e-01],\n",
       "       [5.42496072e-01],\n",
       "       [1.59832247e-01],\n",
       "       [2.51934188e-05]], dtype=float64)"
      ]
     },
     "execution_count": 33,
     "metadata": {},
     "output_type": "execute_result"
    }
   ],
   "source": [
    "jnp.abs(jnp.array(forwards))"
   ]
  },
  {
   "cell_type": "code",
   "execution_count": 34,
   "metadata": {},
   "outputs": [
    {
     "data": {
      "text/plain": [
       "Array([[6.63226596e-01],\n",
       "       [2.58119111e-01],\n",
       "       [2.65893496e-01],\n",
       "       [2.61536483e-01],\n",
       "       [1.89172344e-01],\n",
       "       [1.00403715e-09],\n",
       "       [0.00000000e+00]], dtype=float64)"
      ]
     },
     "execution_count": 34,
     "metadata": {},
     "output_type": "execute_result"
    }
   ],
   "source": [
    "jnp.abs(jnp.array(backwards))"
   ]
  },
  {
   "cell_type": "code",
   "execution_count": 35,
   "metadata": {},
   "outputs": [],
   "source": [
    "def fields(padded_ns, xi, forwards, backwards, x):\n",
    "    \"\"\"Calculates the fields within a stack at given positions x\n",
    "    Attention xi > 0\n",
    "    \"\"\"\n",
    "    xi = onp.concatenate([[-onp.inf, 0], xi, [onp.inf]])\n",
    "    E_tot = onp.zeros((len(x),), dtype=complex)\n",
    "    Abs_tot = onp.zeros((len(x),), dtype=complex)\n",
    "    for n, forward, backward, x_min, x_max in zip(padded_ns, forwards, backwards, xi, xi[1:]):\n",
    "        has_contribution = onp.any(onp.logical_and(x > x_min, x < x_max))\n",
    "        if not has_contribution:\n",
    "            continue\n",
    "        print(f\"{n}: {x_min} - {x_max}: -> {forward[0]}; <- {backward[0]}\")\n",
    "        i_min = onp.argmax(x >= x_min)\n",
    "        i_max = onp.argmax(x > x_max)\n",
    "        \n",
    "        if i_max == 0:\n",
    "            x_ = x[i_min:]\n",
    "        else:\n",
    "            x_ = x[i_min:i_max]\n",
    "\n",
    "        if onp.isinf(x_min):\n",
    "            x_local = x_\n",
    "        else:\n",
    "            x_local = x_ - x_min\n",
    "        E_local = forward*onp.exp(2j * onp.pi * n / wl * x_local)\n",
    "        E_local += backward*onp.exp(-2j * onp.pi * n / wl * x_local)\n",
    "\n",
    "        if i_max == 0:\n",
    "            E_tot[i_min:] = E_local\n",
    "        else:\n",
    "            E_tot[i_min:i_max] = E_local\n",
    "\n",
    "        eps = n**2 * epsilon_0\n",
    "        omega = 2 * onp.pi * c0/wl\n",
    "        Abs_local = 0.5* omega * eps.imag * onp.abs(E_local)**2\n",
    "        if i_max == 0:\n",
    "            Abs_tot[i_min:] = Abs_local\n",
    "        else:\n",
    "            Abs_tot[i_min:i_max] = Abs_local\n",
    "            \n",
    "    return E_tot, Abs_tot"
   ]
  },
  {
   "cell_type": "code",
   "execution_count": 39,
   "metadata": {},
   "outputs": [
    {
     "name": "stdout",
     "output_type": "stream",
     "text": [
      "1: -inf - 0.0: -> (1+0j); <- (-0.6488030082492338-0.13756516317386808j)\n",
      "2: 0.0 - 1.0: -> (0.5877992479376914-0.03439129079346702j); <- (-0.23660225618692532-0.10317387238040107j)\n",
      "(1.889+0.0035j): 1.0 - 1.15: -> (-0.3396254178307034-0.5012780826277962j); <- (0.2235943849474816-0.14389198127528927j)\n",
      "(1.802+0.0562j): 1.15 - 1.18: -> (0.48031098913385123-0.39346850910805625j); <- (-0.13601547770628236-0.22338559043807j)\n",
      "(2.321+0.291j): 1.18 - 1.48: -> (0.47529476330010356-0.2615279639914644j); <- (-0.10392780639383825-0.15806703230983132j)\n",
      "(1.519+9j): 1.48 - 1.68: -> (-0.07911813215615915+0.1388764498403872j); <- (7.010614779830767e-10-7.187512799263496e-10j)\n",
      "1: 1.68 - inf: -> (-2.015560351658355e-05-1.5114893174321723e-05j); <- 0j\n"
     ]
    }
   ],
   "source": [
    "x = jnp.linspace(-0.4, 2, 400)\n",
    "field, absorption = fields(padded_ns, xi, forwards, backwards, x)"
   ]
  },
  {
   "cell_type": "code",
   "execution_count": 40,
   "metadata": {},
   "outputs": [
    {
     "data": {
      "text/plain": [
       "Text(0, 0.5, '$|E(x)|$')"
      ]
     },
     "execution_count": 40,
     "metadata": {},
     "output_type": "execute_result"
    },
    {
     "data": {
      "image/png": "[encoded data removed]",
      "text/plain": [
       "<Figure size 600x450 with 1 Axes>"
      ]
     },
     "metadata": {},
     "output_type": "display_data"
    }
   ],
   "source": [
    "plt.plot(x, jnp.abs(field))\n",
    "plt.axhline(0.13)\n",
    "#plt.axhline(1, color=\"k\", linestyle=\"--\")\n",
    "plt.ylim((0, None))\n",
    "plt.xlabel(\"x [$\\mu$m]\")\n",
    "plt.ylabel(\"$|E(x)|$\")"
   ]
  },
  {
   "cell_type": "code",
   "execution_count": 41,
   "metadata": {},
   "outputs": [
    {
     "name": "stderr",
     "output_type": "stream",
     "text": [
      "/scratch/local/jdf/conda/envs/meow/lib/python3.11/site-packages/matplotlib/cbook.py:1699: ComplexWarning: Casting complex values to real discards the imaginary part\n",
      "  return math.isfinite(val)\n",
      "/scratch/local/jdf/conda/envs/meow/lib/python3.11/site-packages/matplotlib/cbook.py:1345: ComplexWarning: Casting complex values to real discards the imaginary part\n",
      "  return np.asarray(x, float)\n"
     ]
    },
    {
     "data": {
      "text/plain": [
       "Text(0, 0.5, 'Absorption')"
      ]
     },
     "execution_count": 41,
     "metadata": {},
     "output_type": "execute_result"
    },
    {
     "data": {
      "image/png": "[encoded data removed]",
      "text/plain": [
       "<Figure size 600x450 with 1 Axes>"
      ]
     },
     "metadata": {},
     "output_type": "display_data"
    }
   ],
   "source": [
    "plt.plot(x, absorption)\n",
    "plt.axhline(0, color=\"k\", linestyle=\"--\")\n",
    "plt.xlabel(\"x [$\\mu$m]\")\n",
    "plt.ylabel(\"Absorption\")\n",
    "\n"
   ]
  },
  {
   "cell_type": "code",
   "execution_count": null,
   "metadata": {},
   "outputs": [],
   "source": []
  },
  {
   "cell_type": "code",
   "execution_count": null,
   "metadata": {},
   "outputs": [],
   "source": []
  },
  {
   "cell_type": "code",
   "execution_count": null,
   "metadata": {},
   "outputs": [],
   "source": []
  },
  {
   "cell_type": "code",
   "execution_count": null,
   "metadata": {},
   "outputs": [],
   "source": []
  }
 ],
 "metadata": {
  "kernelspec": {
   "display_name": "meow",
   "language": "python",
   "name": "python3"
  },
  "language_info": {
   "codemirror_mode": {
    "name": "ipython",
    "version": 3
   },
   "file_extension": ".py",
   "mimetype": "text/x-python",
   "name": "python",
   "nbconvert_exporter": "python",
   "pygments_lexer": "ipython3",
   "version": "3.11.8"
  }
 },
 "nbformat": 4,
 "nbformat_minor": 2
}
